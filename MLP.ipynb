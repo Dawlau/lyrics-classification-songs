{
 "cells": [
  {
   "cell_type": "code",
   "execution_count": 1,
   "metadata": {},
   "outputs": [
    {
     "data": {
      "text/plain": [
       "'\\ntrain_dataset = SongsDataset(\\n\\tX_train, \\n\\ty_train, \\n\\ttransform=transforms.Compose([RemovePunctuationTransformer()])\\n)\\n\\nprint(len(train_dataset))\\nfor i, (x, y) in enumerate(train_dataset):\\n\\tprint(x, y)\\n\\tbreak\\n'"
      ]
     },
     "execution_count": 1,
     "metadata": {},
     "output_type": "execute_result"
    }
   ],
   "source": [
    "import pandas as pd\n",
    "import torch\n",
    "import matplotlib.pyplot as plt\n",
    "from collections import Counter\n",
    "from preprocessing.build_dataset import get_dataset_splits\n",
    "from preprocessing.build_dataset import LABELS\n",
    "from preprocessing.SongsDataset import SongsDataset\n",
    "from preprocessing.TokenizeTransformer import TokenizeTransformer\n",
    "from preprocessing.RemoveStopwordsTransform import RemoveStopwordsTransform\n",
    "from preprocessing.RemovePunctuationTransformer import RemovePunctuationTransformer\n",
    "from torchvision import transforms\n",
    "from torch.utils.data import DataLoader\n",
    "from nltk.tokenize import word_tokenize\n",
    "import numpy as np\n",
    "import time\n",
    "\n",
    "X_train, y_train, X_val, y_val, X_test, y_test = get_dataset_splits(\"english_cleaned_lyrics.csv\", train_size_p=0.8, val_size_p=0.1)\n",
    "\n",
    "\n",
    "\n",
    "'''\n",
    "train_dataset = SongsDataset(\n",
    "\tX_train, \n",
    "\ty_train, \n",
    "\ttransform=transforms.Compose([RemovePunctuationTransformer()])\n",
    ")\n",
    "\n",
    "print(len(train_dataset))\n",
    "for i, (x, y) in enumerate(train_dataset):\n",
    "\tprint(x, y)\n",
    "\tbreak\n",
    "'''\n",
    "\t\n",
    "\n",
    "# for i, x, y in enumerate(train_dataset):\n",
    "# \t# print(x, y)\n",
    "# \t# break\n",
    "# \tprint(i + 1)\n",
    "# \tpass\n",
    "\n",
    "# BATCH_SIZE = 16\n",
    "# train_loader = DataLoader(\n",
    "# \ttrain_dataset,\n",
    "# \tbatch_size=BATCH_SIZE,\n",
    "# \tshuffle=True,\n",
    "# )\n",
    "\n",
    "# for X, y in train_loader:\n",
    "# \tbreak"
   ]
  },
  {
   "cell_type": "code",
   "execution_count": 2,
   "metadata": {},
   "outputs": [],
   "source": [
    "\n",
    "DEVICE = \"cuda\" if torch.cuda.is_available() else \"cpu\""
   ]
  },
  {
   "cell_type": "code",
   "execution_count": 3,
   "metadata": {},
   "outputs": [],
   "source": [
    "def max_freq_of_class(X_train, y_train, max_freq):\n",
    "    X_ret = []\n",
    "    y_ret = []\n",
    "    freq = 4 * [0]\n",
    "    \n",
    "    for i in range(len(X_train)):\n",
    "        if freq[y_train[i]] < max_freq:\n",
    "            freq[y_train[i]] += 1\n",
    "            X_ret.append(X_train[i])\n",
    "            y_ret.append(y_train[i])\n",
    "    return X_ret, y_ret"
   ]
  },
  {
   "cell_type": "code",
   "execution_count": 4,
   "metadata": {},
   "outputs": [
    {
     "name": "stdout",
     "output_type": "stream",
     "text": [
      "Counter({3: 70932, 2: 24773, 0: 16604, 1: 16299})\n"
     ]
    }
   ],
   "source": [
    "print(Counter(y_train))"
   ]
  },
  {
   "cell_type": "code",
   "execution_count": 5,
   "metadata": {},
   "outputs": [],
   "source": [
    "X_train, y_train = max_freq_of_class(X_train, y_train, 16299)"
   ]
  },
  {
   "cell_type": "code",
   "execution_count": 6,
   "metadata": {},
   "outputs": [
    {
     "name": "stdout",
     "output_type": "stream",
     "text": [
      "['The pain the pain of a broken heart The price Ill pay for loving you I loved you from the very start But Ill get over losing you I just cant seem to realize Youre leaving me today As burning teardrops fill my eyes I watch you walk away The pain the pain of a broken heart The price Ill pay for loving you I loved you from the very start But Ill get over losing you I lost my love I lost my home I just cant seem to win If I get over losing you Ill never love again'\n",
      " ' You aint never had a thug You aint never had a thug Beat it all night til you had enough You aint never had a thug Buss it down for a cup Best friend said she only want a blood You aint never had a thug Wait wait a minute Wait wait a minute You aint never had a thug Wait wait a minute Wait wait a minute You aint never had a thug You aint never had a thug Tired of these lame ass niggas in the club I aint here to play games I aint lookin for the love Let your man date you Im the one to beat it up Do it tll it hurts on the turf gotta bang mine Hit you from the back while Im throwin up my gang signs Take you to the hood let you cruise around the mainline Hit the blunt and lick the middle at the same time Damn bet you never had it that way Bring your friend she aint with it send her that way Take a loss get it back thats the fast way And I can still make money on a bad day wait a minute Come and fuck with a thug nigga Only hangin round with Gs and them drug dealers Look you need a rider not a punk Hit a nigga line give it to you what he want You aint never had a thug You aint never had a thug Beat it all night til you had enough You aint never had a thug Buss it down for a cup Best friend said she only want a blood You aint never had a thug Wait wait a minute Wait wait a minute You aint never had a thug Wait wait a minute Wait wait a minute You aint never had a thug You aint never had a Blood Westside middle finger touch my thumb My Crip bitch take dick like']\n"
     ]
    }
   ],
   "source": [
    "remove_punctuation = RemovePunctuationTransformer()\n",
    "X_train = remove_punctuation(X_train)\n",
    "\n",
    "print(X_train[0:2])"
   ]
  },
  {
   "cell_type": "code",
   "execution_count": 7,
   "metadata": {},
   "outputs": [],
   "source": [
    "def tokenize(string):\n",
    "    return [x.lower() for x in string.split()]\n",
    "tokenizer = TokenizeTransformer(tokenize)\n",
    "X_train_tokenized = tokenizer(X_train)\n",
    "X_val_tokenized = tokenizer(X_val)\n",
    "X_test_tokenized = tokenizer(X_test)"
   ]
  },
  {
   "cell_type": "code",
   "execution_count": 8,
   "metadata": {},
   "outputs": [],
   "source": [
    "X_train_no_stop_words = []\n",
    "stop_word_remover = RemoveStopwordsTransform()\n",
    "for x in X_train_tokenized:\n",
    "    X_train_no_stop_words.append(stop_word_remover(x))\n",
    "X_train_tokenized = []\n",
    "X_val_no_stop_words = [stop_word_remover(x) for x in X_val_tokenized]\n",
    "X_val_tokenized = []\n",
    "X_test_no_stop_words = [stop_word_remover(x) for x in X_test_tokenized]"
   ]
  },
  {
   "cell_type": "code",
   "execution_count": 9,
   "metadata": {},
   "outputs": [],
   "source": [
    "distinct_tokens = {}\n",
    "for x in X_train_no_stop_words:\n",
    "    for token in x:\n",
    "        if token in distinct_tokens.keys():\n",
    "            distinct_tokens[token] += 1\n",
    "        else:\n",
    "            distinct_tokens[token] = 1\n"
   ]
  },
  {
   "cell_type": "code",
   "execution_count": 10,
   "metadata": {},
   "outputs": [],
   "source": [
    "relevant_tokens = [token for token, frequency in distinct_tokens.items() if frequency >= 10]"
   ]
  },
  {
   "cell_type": "code",
   "execution_count": 11,
   "metadata": {},
   "outputs": [
    {
     "name": "stdout",
     "output_type": "stream",
     "text": [
      "27624\n"
     ]
    }
   ],
   "source": [
    "input_size = len(relevant_tokens)\n",
    "print(input_size)"
   ]
  },
  {
   "cell_type": "code",
   "execution_count": 12,
   "metadata": {},
   "outputs": [
    {
     "name": "stdout",
     "output_type": "stream",
     "text": [
      "65196\n"
     ]
    }
   ],
   "source": [
    "print(len(X_train_no_stop_words))"
   ]
  },
  {
   "cell_type": "code",
   "execution_count": 13,
   "metadata": {},
   "outputs": [
    {
     "name": "stdout",
     "output_type": "stream",
     "text": [
      "cuda\n"
     ]
    }
   ],
   "source": [
    "print(DEVICE)"
   ]
  },
  {
   "cell_type": "code",
   "execution_count": 14,
   "metadata": {},
   "outputs": [],
   "source": [
    "# X_train = []\n",
    "# cnt_zeros = 0\n",
    "# from collections import Counter\n",
    "# import math\n",
    "# for x in X_train_no_stop_words:\n",
    "#     xx = x.tolist()\n",
    "#     freq = Counter(xx)\n",
    "#     bow = []\n",
    "\n",
    "#     for token in relevant_tokens:\n",
    "#         try:\n",
    "#             bow.append(freq[token])\n",
    "#         except:\n",
    "#             bow.append(0)\n",
    "#     bow = np.array(bow)\n",
    "#     if(np.amax(bow) != 0):\n",
    "#         bow = bow / np.amax(bow)\n",
    "#     if np.count_nonzero(bow) == 0:\n",
    "#         cnt_zeros += 1\n",
    "#     X_train.append(bow)\n",
    "\n",
    "# print(cnt_zeros)\n"
   ]
  },
  {
   "cell_type": "code",
   "execution_count": 15,
   "metadata": {},
   "outputs": [],
   "source": [
    "train_dataset = SongsDataset(\n",
    "\tX_train, \n",
    "\ty_train,\n",
    "    device=DEVICE \n",
    ")\n"
   ]
  },
  {
   "cell_type": "code",
   "execution_count": 16,
   "metadata": {},
   "outputs": [
    {
     "name": "stdout",
     "output_type": "stream",
     "text": [
      "[array([0., 0., 0., ..., 0., 0., 0.]), array([0., 0., 0., ..., 0., 0., 0.])]\n"
     ]
    }
   ],
   "source": [
    "X_val = []\n",
    "for x in X_val_no_stop_words:\n",
    "    xx = x.tolist()\n",
    "    freq = Counter(xx)\n",
    "    bow = []\n",
    "\n",
    "    for token in relevant_tokens:\n",
    "        try:\n",
    "            bow.append(freq[token])\n",
    "        except:\n",
    "            bow.append(0)\n",
    "    bow = np.array(bow)\n",
    "    if(np.amax(bow) != 0):\n",
    "        bow = bow / np.amax(bow)\n",
    "    X_val.append(bow)\n",
    "print(X_val[:2])\n"
   ]
  },
  {
   "cell_type": "code",
   "execution_count": 17,
   "metadata": {},
   "outputs": [],
   "source": [
    "X_val, y_val = max_freq_of_class(X_val, y_val, 2038)"
   ]
  },
  {
   "cell_type": "code",
   "execution_count": 18,
   "metadata": {},
   "outputs": [
    {
     "name": "stdout",
     "output_type": "stream",
     "text": [
      "8152 8152\n"
     ]
    }
   ],
   "source": [
    "print(len(X_val), len(y_val))"
   ]
  },
  {
   "cell_type": "code",
   "execution_count": 19,
   "metadata": {},
   "outputs": [
    {
     "name": "stdout",
     "output_type": "stream",
     "text": [
      "[array([0., 0., 0., ..., 0., 0., 0.]), array([0., 0., 0., ..., 0., 0., 0.])]\n"
     ]
    }
   ],
   "source": [
    "X_test = []\n",
    "for x in X_test_no_stop_words:\n",
    "    xx = x.tolist()\n",
    "    freq = Counter(xx)\n",
    "    bow = []\n",
    "\n",
    "    for token in relevant_tokens:\n",
    "        try:\n",
    "            bow.append(freq[token])\n",
    "        except:\n",
    "            bow.append(0)\n",
    "    bow = np.array(bow)\n",
    "    if(np.amax(bow) != 0):\n",
    "        bow = bow / np.amax(bow)\n",
    "    X_test.append(bow)\n",
    "print(X_test[:2])"
   ]
  },
  {
   "cell_type": "code",
   "execution_count": 20,
   "metadata": {},
   "outputs": [],
   "source": [
    "validate_dataset = SongsDataset(\n",
    "\tX_val,\n",
    "\ty_val\n",
    ")"
   ]
  },
  {
   "cell_type": "code",
   "execution_count": 21,
   "metadata": {},
   "outputs": [],
   "source": [
    "test_dataset = SongsDataset (\n",
    "    X_test,\n",
    "    y_test\n",
    ")"
   ]
  },
  {
   "cell_type": "code",
   "execution_count": 22,
   "metadata": {},
   "outputs": [],
   "source": [
    "\n",
    "from torch import nn\n",
    "from torch import optim\n",
    "train_dataloader = torch.utils.data.DataLoader(train_dataset, batch_size=64, shuffle=True)\n",
    "test_dataloader = torch.utils.data.DataLoader(test_dataset, batch_size=32, shuffle=True)\n",
    "validate_dataloader = torch.utils.data.DataLoader(validate_dataset, batch_size=64, shuffle=True)"
   ]
  },
  {
   "cell_type": "code",
   "execution_count": 23,
   "metadata": {},
   "outputs": [],
   "source": [
    "\n",
    "model = nn.Sequential(\n",
    "    nn.Linear(input_size, 1024).to(DEVICE),\n",
    "    nn.ReLU().to(DEVICE),\n",
    "    nn.Linear(1024, 1024).to(DEVICE),\n",
    "    nn.ReLU().to(DEVICE),\n",
    "    nn.Linear(1024, 4).to(DEVICE),\n",
    "    nn.Softmax(dim=1).to(DEVICE)\n",
    ").to(DEVICE)\n"
   ]
  },
  {
   "cell_type": "code",
   "execution_count": 24,
   "metadata": {},
   "outputs": [],
   "source": [
    "# optimiser = optim.SGD(model.parameters(), lr = 1e-2, momentum=0.9)"
   ]
  },
  {
   "cell_type": "code",
   "execution_count": 25,
   "metadata": {},
   "outputs": [
    {
     "name": "stdout",
     "output_type": "stream",
     "text": [
      "cuda\n"
     ]
    }
   ],
   "source": [
    "loss_fn = nn.CrossEntropyLoss()\n",
    "print(DEVICE)"
   ]
  },
  {
   "cell_type": "code",
   "execution_count": 26,
   "metadata": {},
   "outputs": [
    {
     "name": "stdout",
     "output_type": "stream",
     "text": [
      "Counter({3: 16299, 0: 16299, 1: 16299, 2: 16299})\n"
     ]
    }
   ],
   "source": [
    "print(Counter(y_train))"
   ]
  },
  {
   "cell_type": "code",
   "execution_count": null,
   "metadata": {},
   "outputs": [],
   "source": []
  },
  {
   "cell_type": "code",
   "execution_count": 27,
   "metadata": {},
   "outputs": [],
   "source": [
    "# cnt_epochs = 25\n",
    "# import sklearn.metrics as metrics\n",
    "# def epoch():\n",
    "#     model.train()\n",
    "#     for (vectors, labels) in train_dataloader:\n",
    "#         vectors = vectors.type(torch.FloatTensor)\n",
    "#         vectors = vectors.to(DEVICE)\n",
    "        \n",
    "#         labels = labels.type(torch.LongTensor)\n",
    "#         labels = labels.to(DEVICE)\n",
    "\n",
    "#         optimiser.zero_grad()\n",
    "\n",
    "#         output = model(vectors)\n",
    "        \n",
    "#         loss = loss_fn(output, labels)\n",
    "\n",
    "#         loss.backward()\n",
    "\n",
    "#         optimiser.step()\n",
    "\n",
    "# def check(dataloader):\n",
    "#     model.eval()\n",
    "\n",
    "#     true_labels = []\n",
    "#     predicted_labels = []\n",
    "#     mean_loss = 0\n",
    "\n",
    "#     with torch.no_grad():\n",
    "#         for (vectors, labels) in dataloader:\n",
    "#             vectors = vectors.type(torch.FloatTensor)\n",
    "#             vectors = vectors.to(DEVICE)\n",
    "            \n",
    "#             labels = labels.type(torch.LongTensor)\n",
    "#             labels = labels.to(DEVICE)\n",
    "\n",
    "#             output = model(vectors)\n",
    "#             loss = loss_fn(output, labels)\n",
    "\n",
    "#             mean_loss += loss.item()\n",
    "#             true_labels.extend(labels.tolist())\n",
    "#             last = output\n",
    "#             predicted_labels.extend(output.detach().argmax(dim=1).tolist())\n",
    "#     #print(last[0:2])\n",
    "#     return mean_loss, metrics.accuracy_score(true_labels, predicted_labels)\n",
    "\n",
    "# for i in range(cnt_epochs):\n",
    "#     if i % 5 == 0:\n",
    "#         for g in optimiser.param_groups:\n",
    "#             g['lr'] = (10 - 2 * (i / 5)) * 1e-3\n",
    "#         curr_lr = (10 - 2 * (i / 5)) * 1e-3\n",
    "#     epoch()\n",
    "#     mean_loss_train, accuracy_train = check(train_dataloader)\n",
    "#     mean_loss, accuracy = check(validate_dataloader)\n",
    "#     print(f\"Epoca {i}, lr = {curr_lr} Mean Loss = {mean_loss}, Accuracy = {accuracy}, Mean Loss Train = {mean_loss_train}, Accuracy Train = {accuracy_train}, \")\n"
   ]
  },
  {
   "cell_type": "code",
   "execution_count": 28,
   "metadata": {},
   "outputs": [],
   "source": [
    "#torch.save(model.state_dict(), \"E:\\work\\Machine Learning\\lyrics-classification-songs\\model\")"
   ]
  },
  {
   "cell_type": "code",
   "execution_count": 29,
   "metadata": {},
   "outputs": [
    {
     "data": {
      "text/plain": [
       "Sequential(\n",
       "  (0): Linear(in_features=27624, out_features=1024, bias=True)\n",
       "  (1): ReLU()\n",
       "  (2): Linear(in_features=1024, out_features=1024, bias=True)\n",
       "  (3): ReLU()\n",
       "  (4): Linear(in_features=1024, out_features=4, bias=True)\n",
       "  (5): Softmax(dim=1)\n",
       ")"
      ]
     },
     "execution_count": 29,
     "metadata": {},
     "output_type": "execute_result"
    }
   ],
   "source": [
    "\n",
    "model.load_state_dict(torch.load(\"E:\\work\\Machine Learning\\lyrics-classification-songs\\model_bogdan\"))\n",
    "model.eval()"
   ]
  },
  {
   "cell_type": "code",
   "execution_count": 30,
   "metadata": {},
   "outputs": [],
   "source": [
    "import sklearn.metrics as metrics\n",
    "def check(dataloader):\n",
    "    model.eval()\n",
    "\n",
    "    true_labels = []\n",
    "    predicted_labels = []\n",
    "    mean_loss = 0\n",
    "\n",
    "    with torch.no_grad():\n",
    "        for (vectors, labels) in dataloader:\n",
    "            vectors = vectors.type(torch.FloatTensor)\n",
    "            vectors = vectors.to(DEVICE)\n",
    "            \n",
    "            labels = labels.type(torch.LongTensor)\n",
    "            labels = labels.to(DEVICE)\n",
    "\n",
    "            output = model(vectors)\n",
    "            loss = loss_fn(output, labels)\n",
    "\n",
    "            mean_loss += loss.item()\n",
    "            true_labels.extend(labels.tolist())\n",
    "            last = output\n",
    "            predicted_labels.extend(output.detach().argmax(dim=1).tolist())\n",
    "    #print(last[0:2])\n",
    "    return mean_loss, metrics.accuracy_score(true_labels, predicted_labels), metrics.confusion_matrix(true_labels, predicted_labels), metrics.precision_recall_fscore_support(true_labels, predicted_labels)"
   ]
  },
  {
   "cell_type": "code",
   "execution_count": 31,
   "metadata": {},
   "outputs": [],
   "source": [
    "mean_loss, accuracy, conf_matrix, prfs = check(test_dataloader)"
   ]
  },
  {
   "cell_type": "code",
   "execution_count": 37,
   "metadata": {},
   "outputs": [
    {
     "data": {
      "text/plain": [
       "<AxesSubplot:>"
      ]
     },
     "execution_count": 37,
     "metadata": {},
     "output_type": "execute_result"
    },
    {
     "data": {
      "image/png": "[encoded data removed]",
      "text/plain": [
       "<Figure size 720x720 with 2 Axes>"
      ]
     },
     "metadata": {
      "needs_background": "light"
     },
     "output_type": "display_data"
    }
   ],
   "source": [
    "import seaborn as sn\n",
    "from preprocessing.build_dataset import get_label_encoder \n",
    "labels = get_label_encoder(\"english_cleaned_lyrics.csv\").classes_\n",
    "df_cm = pd.DataFrame(conf_matrix, index=labels, columns=labels)\n",
    "plt.figure(figsize=(10, 10))\n",
    "sn.heatmap(df_cm, annot=True, fmt=\"d\")"
   ]
  },
  {
   "cell_type": "code",
   "execution_count": 38,
   "metadata": {},
   "outputs": [
    {
     "data": {
      "image/png": "[encoded data removed]",
      "text/plain": [
       "<Figure size 432x288 with 1 Axes>"
      ]
     },
     "metadata": {
      "needs_background": "light"
     },
     "output_type": "display_data"
    }
   ],
   "source": [
    "fig = plt.figure()\n",
    "ax = fig.add_axes([0, 0, 1, 1])\n",
    "\n",
    "ax.bar(labels, conf_matrix.diagonal() / conf_matrix.sum(axis = 1))\n",
    "plt.ylabel(\"Accuracy\")\n",
    "plt.show()"
   ]
  },
  {
   "cell_type": "code",
   "execution_count": 34,
   "metadata": {},
   "outputs": [
    {
     "data": {
      "text/plain": [
       "Text(0.5, 1.0, 'support')"
      ]
     },
     "execution_count": 34,
     "metadata": {},
     "output_type": "execute_result"
    },
    {
     "data": {
      "image/png": "[encoded data removed]",
      "text/plain": [
       "<Figure size 432x288 with 4 Axes>"
      ]
     },
     "metadata": {
      "needs_background": "light"
     },
     "output_type": "display_data"
    }
   ],
   "source": [
    "figure, axis = plt.subplots(2, 2, constrained_layout=True)\n",
    "PRFS = [\"precision\", \"recall\", \"f1-score\", \"support\"]\n",
    "axis[0, 0].bar(labels, prfs[0])\n",
    "axis[0, 0].set_title(PRFS[0])\n",
    "axis[0, 1].bar(labels, prfs[1])\n",
    "axis[0, 1].set_title(PRFS[1])\n",
    "axis[1, 0].bar(labels, prfs[2])\n",
    "axis[1, 0].set_title(PRFS[2])\n",
    "axis[1, 1].bar(labels, prfs[3])\n",
    "axis[1, 1].set_title(PRFS[3])"
   ]
  },
  {
   "cell_type": "code",
   "execution_count": 35,
   "metadata": {},
   "outputs": [
    {
     "name": "stdout",
     "output_type": "stream",
     "text": [
      "(array([0.65175841, 0.48901595, 0.39034423, 0.79430953]), array([0.82129094, 0.79774178, 0.5821763 , 0.49436048]), array([0.72676897, 0.60634328, 0.46734059, 0.60942714]), array([2076, 2037, 3097, 8866], dtype=int64))\n"
     ]
    }
   ],
   "source": [
    "print(prfs)"
   ]
  }
 ],
 "metadata": {
  "interpreter": {
   "hash": "499c7e2651352cd37913e384520cc4891bf826e8f7d6e933a0246760ec0ff210"
  },
  "kernelspec": {
   "display_name": "Python 3.9.3 64-bit",
   "language": "python",
   "name": "python3"
  },
  "language_info": {
   "codemirror_mode": {
    "name": "ipython",
    "version": 3
   },
   "file_extension": ".py",
   "mimetype": "text/x-python",
   "name": "python",
   "nbconvert_exporter": "python",
   "pygments_lexer": "ipython3",
   "version": "3.9.3"
  },
  "orig_nbformat": 4
 },
 "nbformat": 4,
 "nbformat_minor": 2
}
