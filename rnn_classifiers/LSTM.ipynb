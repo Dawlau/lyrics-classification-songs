{
 "cells": [
  {
   "cell_type": "code",
   "execution_count": 1,
   "metadata": {},
   "outputs": [],
   "source": [
    "%load_ext autoreload\n",
    "%autoreload 2"
   ]
  },
  {
   "cell_type": "code",
   "execution_count": 2,
   "metadata": {},
   "outputs": [],
   "source": [
    "import sys\n",
    "import os\n",
    "\n",
    "sys.path.append(\"../\")\n",
    "DATASET_PATH = \"../english_cleaned_lyrics.csv\"\n",
    "\n",
    "import pandas as pd\n",
    "import matplotlib.pyplot as plt\n",
    "from collections import Counter\n",
    "from preprocessing.build_dataset import get_dataset_splits\n",
    "from preprocessing.build_dataset import LABELS\n",
    "from preprocessing.build_dataset import get_label_encoder\n",
    "from preprocessing.SongsDataset import SongsDataset\n",
    "from preprocessing.TokenizeTransformer import TokenizeTransformer\n",
    "from preprocessing.RemoveStopwordsTransform import RemoveStopwordsTransform\n",
    "from preprocessing.RemovePunctuationTransformer import RemovePunctuationTransformer\n",
    "from torchvision import transforms\n",
    "from torch.utils.data import DataLoader\n",
    "from nltk.tokenize import word_tokenize\n",
    "from preprocessing.GloveEmbeddingTransformer import GloveEmbeddingTransformer\n",
    "from torchvision import transforms\n",
    "import time\n",
    "import itertools\n",
    "import torch\n",
    "import torch.nn as nn\n",
    "from tqdm import tqdm\n",
    "from sklearn.metrics import accuracy_score\n",
    "import numpy as np\n",
    "from torch.utils.tensorboard import SummaryWriter\n",
    "from sklearn.metrics import confusion_matrix\n",
    "from sklearn.metrics import classification_report\n",
    "import seaborn as sn\n",
    "import pandas as pd\n",
    "import matplotlib.pyplot as plt"
   ]
  },
  {
   "cell_type": "code",
   "execution_count": 3,
   "metadata": {},
   "outputs": [],
   "source": [
    "X_train, y_train, X_val, y_val, X_test, y_test = get_dataset_splits(DATASET_PATH, train_size_p=0.8, val_size_p=0.1)\n",
    "\n",
    "tokenizer_transform = TokenizeTransformer(word_tokenize)\n",
    "all_words = list(itertools.chain.from_iterable(tokenizer_transform(X_train)))\n",
    "glove_embedding_transform = GloveEmbeddingTransformer(all_words, 30000, 600)\n",
    "\n",
    "train_dataset = SongsDataset(\n",
    "\tX_train, \n",
    "\ty_train, \n",
    "\ttransform=transforms.Compose([tokenizer_transform, glove_embedding_transform])\n",
    ")\n",
    "\n",
    "val_dataset = SongsDataset(\n",
    "\tX_val, \n",
    "\ty_val, \n",
    "\ttransform=transforms.Compose([tokenizer_transform, glove_embedding_transform])\n",
    ")\n",
    "\n",
    "test_dataset = SongsDataset(\n",
    "\tX_test, \n",
    "\ty_test, \n",
    "\ttransform=transforms.Compose([tokenizer_transform, glove_embedding_transform])\n",
    ")"
   ]
  },
  {
   "cell_type": "code",
   "execution_count": 4,
   "metadata": {},
   "outputs": [],
   "source": [
    "BATCH_SIZE = 64\n",
    "\n",
    "train_loader = DataLoader(\n",
    "\ttrain_dataset,\n",
    "\tshuffle=True,\n",
    "\tbatch_size=BATCH_SIZE\n",
    ")\n",
    "\n",
    "val_loader = DataLoader(\n",
    "\tval_dataset,\n",
    "\tshuffle=True,\n",
    "\tbatch_size=BATCH_SIZE\n",
    ")\n",
    "\n",
    "test_loader = DataLoader(\n",
    "\ttest_dataset,\n",
    "\tshuffle=True,\n",
    "\tbatch_size=BATCH_SIZE\n",
    ")\n",
    "\n",
    "device = \"cuda\" if torch.cuda.is_available() else \"cpu\""
   ]
  },
  {
   "cell_type": "code",
   "execution_count": 12,
   "metadata": {},
   "outputs": [],
   "source": [
    "class LSTM_Model(nn.Module):\n",
    "\t\n",
    "\tdef __init__(self, init_embeddings, hidden_size, num_classes):\n",
    "\t\tsuper(LSTM_Model, self).__init__()\n",
    "\n",
    "\t\tself.embedding = nn.Embedding.from_pretrained(torch.from_numpy(init_embeddings).float())\n",
    "\t\tself.lstm = nn.LSTM(input_size=100, hidden_size=hidden_size, batch_first=True)  \n",
    "\t\t\n",
    "\t\tself.classifier = nn.Sequential(\n",
    "\t\t\tnn.MaxPool1d(kernel_size=hidden_size),\n",
    "\t\t\tnn.Flatten(),\n",
    "\t\t\tnn.Linear(600, num_classes)\n",
    "\t\t)\n",
    "\n",
    "\n",
    "\tdef forward(self, x):\n",
    "\t\toutput = self.embedding(x)\n",
    "\t\toutput = self.lstm(output)[0]\n",
    "\t\toutput = self.classifier(output)\n",
    "\t\treturn output\n",
    "\n",
    "\n",
    "model = LSTM_Model(glove_embedding_transform.get_embeddings(), 50, 4).to(device)\n",
    "optimizer = torch.optim.RMSprop(model.parameters())\n",
    "loss_fn = nn.CrossEntropyLoss()\n",
    "EPOCHS_NUM = 20"
   ]
  },
  {
   "cell_type": "code",
   "execution_count": 13,
   "metadata": {},
   "outputs": [
    {
     "name": "stderr",
     "output_type": "stream",
     "text": [
      "100%|██████████| 2010/2010 [00:45<00:00, 44.45it/s]\n",
      "100%|██████████| 252/252 [00:02<00:00, 101.80it/s]\n",
      "100%|██████████| 2010/2010 [00:45<00:00, 44.54it/s]\n",
      "100%|██████████| 252/252 [00:02<00:00, 100.16it/s]\n",
      "100%|██████████| 2010/2010 [00:45<00:00, 44.34it/s]\n",
      "100%|██████████| 252/252 [00:02<00:00, 100.71it/s]\n",
      "100%|██████████| 2010/2010 [00:45<00:00, 44.39it/s]\n",
      "100%|██████████| 252/252 [00:02<00:00, 99.22it/s] \n",
      "100%|██████████| 2010/2010 [00:45<00:00, 43.72it/s]\n",
      "100%|██████████| 252/252 [00:02<00:00, 97.50it/s]\n",
      "100%|██████████| 2010/2010 [00:45<00:00, 43.95it/s]\n",
      "100%|██████████| 252/252 [00:02<00:00, 101.96it/s]\n",
      "100%|██████████| 2010/2010 [00:45<00:00, 44.66it/s]\n",
      "100%|██████████| 252/252 [00:02<00:00, 98.17it/s]\n",
      "100%|██████████| 2010/2010 [00:46<00:00, 43.28it/s]\n",
      "100%|██████████| 252/252 [00:02<00:00, 97.90it/s]\n",
      "100%|██████████| 2010/2010 [00:44<00:00, 44.74it/s]\n",
      "100%|██████████| 252/252 [00:02<00:00, 99.64it/s] \n",
      "100%|██████████| 2010/2010 [00:45<00:00, 44.47it/s]\n",
      "100%|██████████| 252/252 [00:02<00:00, 101.73it/s]\n",
      "100%|██████████| 2010/2010 [00:45<00:00, 44.62it/s]\n",
      "100%|██████████| 252/252 [00:02<00:00, 98.67it/s] \n",
      "100%|██████████| 2010/2010 [00:45<00:00, 44.17it/s]\n",
      "100%|██████████| 252/252 [00:02<00:00, 100.37it/s]\n",
      "100%|██████████| 2010/2010 [00:45<00:00, 44.43it/s]\n",
      "100%|██████████| 252/252 [00:02<00:00, 102.02it/s]\n",
      "100%|██████████| 2010/2010 [00:45<00:00, 44.55it/s]\n",
      "100%|██████████| 252/252 [00:02<00:00, 101.68it/s]\n",
      "100%|██████████| 2010/2010 [00:44<00:00, 45.14it/s]\n",
      "100%|██████████| 252/252 [00:02<00:00, 99.51it/s]\n",
      "100%|██████████| 2010/2010 [00:44<00:00, 44.95it/s]\n",
      "100%|██████████| 252/252 [00:02<00:00, 102.10it/s]\n",
      "100%|██████████| 2010/2010 [00:44<00:00, 44.67it/s]\n",
      "100%|██████████| 252/252 [00:02<00:00, 100.16it/s]\n",
      "100%|██████████| 2010/2010 [00:44<00:00, 45.07it/s]\n",
      "100%|██████████| 252/252 [00:02<00:00, 101.03it/s]\n",
      "100%|██████████| 2010/2010 [00:44<00:00, 44.81it/s]\n",
      "100%|██████████| 252/252 [00:02<00:00, 100.16it/s]\n",
      "100%|██████████| 2010/2010 [00:45<00:00, 43.76it/s]\n",
      "100%|██████████| 252/252 [00:02<00:00, 97.16it/s] \n"
     ]
    }
   ],
   "source": [
    "def train_step(model, data_loader, loss_fn, optimizer, device):\n",
    "\n",
    "\tmodel.train()\n",
    "\n",
    "\tloss_val = 0\n",
    "\tpredictions = np.array([])\n",
    "\ty_true = np.array([])\n",
    "\n",
    "\tfor i, (x, y) in enumerate(tqdm(data_loader)):\n",
    "\t\tx = x.to(device)\n",
    "\t\ty = y.to(device)\n",
    "\n",
    "\t\toptimizer.zero_grad()\n",
    "\n",
    "\t\ty_pred = model(x)\n",
    "\t\tloss = loss_fn(y_pred, y)\n",
    "\t\tloss.backward()\n",
    "\n",
    "\t\toptimizer.step()\n",
    "\t\ttorch.nn.utils.clip_grad_norm_(model.parameters(), 1)\n",
    "\n",
    "\t\ty_pred = torch.argmax(y_pred, dim=1)\n",
    "\n",
    "\t\tloss_val += loss.item()\n",
    "\t\tpredictions = np.append(predictions, y_pred.cpu().detach().numpy())\n",
    "\t\ty_true = np.append(y_true, y.cpu().detach().numpy())\n",
    "\n",
    "\tpredictions = predictions.flatten()\n",
    "\taccuracy = accuracy_score(y_true.flatten(), predictions)\n",
    "\tloss_val /= len(data_loader)\n",
    "\n",
    "\treturn loss_val, accuracy\n",
    "\t\n",
    "\n",
    "\n",
    "def val_step(model, data_loader, loss_fn, device):\n",
    "\n",
    "\tmodel.eval()\n",
    "\t\n",
    "\tloss_val = 0\n",
    "\tpredictions = np.array([])\n",
    "\ty_true = np.array([])\n",
    "\n",
    "\twith torch.no_grad():\n",
    "\t\tfor i, (x, y) in enumerate(tqdm(data_loader)):\n",
    "\t\t\tx = x.to(device)\n",
    "\t\t\ty = y.to(device)\n",
    "\n",
    "\t\t\ty_pred = model(x)\n",
    "\t\t\tloss = loss_fn(y_pred, y)\n",
    "\n",
    "\t\t\ty_pred = torch.argmax(y_pred, dim=1)\n",
    "\n",
    "\t\t\tloss_val += loss.item()\n",
    "\t\t\tpredictions = np.append(predictions, y_pred.cpu().detach().numpy())\n",
    "\t\t\ty_true = np.append(y_true, y.cpu().detach().numpy())\n",
    "\n",
    "\tpredictions = predictions.flatten()\n",
    "\taccuracy = accuracy_score(y_true.flatten(), predictions)\n",
    "\tloss_val /= len(data_loader)\n",
    "\n",
    "\treturn loss_val, accuracy\n",
    "\n",
    "writer = SummaryWriter()\n",
    "\n",
    "best_loss = sys.float_info.max\n",
    "\n",
    "for epoch in range(EPOCHS_NUM):\n",
    "\tloss, acc = train_step(model, train_loader, loss_fn, optimizer, device)\n",
    "\twriter.add_scalar(\"Loss/train\", loss, epoch)\n",
    "\twriter.add_scalar(\"Accuracy/train\", acc, epoch)\n",
    "\n",
    "\tloss, acc = val_step(model, val_loader, loss_fn, device)\n",
    "\twriter.add_scalar(\"Loss/val\", loss, epoch)\n",
    "\twriter.add_scalar(\"Accuracy/val\", acc, epoch)\n",
    "\n",
    "\tif loss < best_loss:\n",
    "\t\tbest_loss = loss\n",
    "\t\ttorch.save(model, \"model.pt\")\n",
    "\n",
    "writer.close()"
   ]
  },
  {
   "cell_type": "code",
   "execution_count": 14,
   "metadata": {},
   "outputs": [
    {
     "name": "stderr",
     "output_type": "stream",
     "text": [
      "100%|██████████| 252/252 [00:02<00:00, 101.63it/s]\n"
     ]
    }
   ],
   "source": [
    "model = torch.load(\"model.pt\").to(device).eval()\n",
    "\n",
    "with torch.no_grad():\n",
    "\tpredictions = []\n",
    "\ty_true = []\n",
    "\n",
    "\tfor i, (x, y) in enumerate(tqdm(test_loader)):\n",
    "\t\tx = x.to(device)\n",
    "\t\ty = y.to(device)\n",
    "\t\t\n",
    "\t\ty_pred = model(x)\n",
    "\t\ty_pred = torch.argmax(y_pred, dim=1)\n",
    "\n",
    "\t\tpredictions = np.append(predictions, y_pred.cpu().detach().numpy())\n",
    "\t\ty_true = np.append(y_true, y.cpu().detach().numpy())\n",
    "\n",
    "\tpredictions = predictions.flatten()\n",
    "\ty_true = y_true.flatten()\n",
    "\n",
    "\n",
    "label_encoder = get_label_encoder(\"../english_cleaned_lyrics.csv\")\n",
    "\n",
    "conf_matrix = confusion_matrix(y_true, predictions)"
   ]
  },
  {
   "cell_type": "code",
   "execution_count": 15,
   "metadata": {},
   "outputs": [
    {
     "data": {
      "text/plain": [
       "<AxesSubplot:>"
      ]
     },
     "execution_count": 15,
     "metadata": {},
     "output_type": "execute_result"
    },
    {
     "data": {
      "image/png": "[encoded data removed]",
      "text/plain": [
       "<Figure size 720x720 with 2 Axes>"
      ]
     },
     "metadata": {
      "needs_background": "light"
     },
     "output_type": "display_data"
    }
   ],
   "source": [
    "df_cm = pd.DataFrame(conf_matrix, index=label_encoder.classes_, columns=label_encoder.classes_)\n",
    "plt.figure(figsize=(10, 10))\n",
    "sn.heatmap(df_cm, annot=True, fmt=\"d\")"
   ]
  },
  {
   "cell_type": "code",
   "execution_count": 16,
   "metadata": {},
   "outputs": [
    {
     "data": {
      "image/png": "[encoded data removed]",
      "text/plain": [
       "<Figure size 432x288 with 1 Axes>"
      ]
     },
     "metadata": {
      "needs_background": "light"
     },
     "output_type": "display_data"
    }
   ],
   "source": [
    "accuracy_per_class = conf_matrix.diagonal() / conf_matrix.sum(axis=1)\n",
    "\n",
    "plt.bar(label_encoder.classes_, accuracy_per_class)\n",
    "plt.ylabel(\"Accuracy\")\n",
    "plt.show()"
   ]
  }
 ],
 "metadata": {
  "interpreter": {
   "hash": "0016f17c62ec39091140539b1be657552610c85dadf688efe3fb42df4e682225"
  },
  "kernelspec": {
   "display_name": "Python 3.8.12 ('nlp')",
   "language": "python",
   "name": "python3"
  },
  "language_info": {
   "codemirror_mode": {
    "name": "ipython",
    "version": 3
   },
   "file_extension": ".py",
   "mimetype": "text/x-python",
   "name": "python",
   "nbconvert_exporter": "python",
   "pygments_lexer": "ipython3",
   "version": "3.8.12"
  },
  "orig_nbformat": 4
 },
 "nbformat": 4,
 "nbformat_minor": 2
}
